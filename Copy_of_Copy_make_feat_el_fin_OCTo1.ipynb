{
  "nbformat": 4,
  "nbformat_minor": 0,
  "metadata": {
    "colab": {
      "name": "Copy of Copy_make_feat_el_fin_OCTo1.ipynb",
      "provenance": [],
      "private_outputs": true,
      "collapsed_sections": [],
      "include_colab_link": true
    },
    "kernelspec": {
      "name": "python3",
      "display_name": "Python 3"
    }
  },
  "cells": [
    {
      "cell_type": "markdown",
      "metadata": {
        "id": "view-in-github",
        "colab_type": "text"
      },
      "source": [
        "<a href=\"https://colab.research.google.com/github/themidwestcanapps/DS-Unit-1-Sprint-1-Data-Wrangling-and-Storytelling/blob/master/Copy_of_Copy_make_feat_el_fin_OCTo1.ipynb\" target=\"_parent\"><img src=\"https://colab.research.google.com/assets/colab-badge.svg\" alt=\"Open In Colab\"/></a>"
      ]
    },
    {
      "cell_type": "code",
      "metadata": {
        "id": "aPW_bxEZAOcT",
        "colab_type": "code",
        "colab": {}
      },
      "source": [
        "!wget https://resources.lendingclub.com/LoanStats_2018Q4.csv.zip"
      ],
      "execution_count": 0,
      "outputs": []
    },
    {
      "cell_type": "code",
      "metadata": {
        "id": "SWZQ5-EnAglC",
        "colab_type": "code",
        "colab": {}
      },
      "source": [
        "!unzip LoanStats_2018Q4.csv.zip"
      ],
      "execution_count": 0,
      "outputs": []
    },
    {
      "cell_type": "code",
      "metadata": {
        "id": "InnFz-SLBGEh",
        "colab_type": "code",
        "colab": {}
      },
      "source": [
        "!head LoanStats_2018Q4.csv"
      ],
      "execution_count": 0,
      "outputs": []
    },
    {
      "cell_type": "code",
      "metadata": {
        "id": "2W--OyxOBTKX",
        "colab_type": "code",
        "colab": {}
      },
      "source": [
        "!tail LoanStats_2018Q4.csv"
      ],
      "execution_count": 0,
      "outputs": []
    },
    {
      "cell_type": "code",
      "metadata": {
        "id": "8cRinP_dCAkQ",
        "colab_type": "code",
        "colab": {}
      },
      "source": [
        "import IPython \n",
        "from IPython.display import display \n"
      ],
      "execution_count": 0,
      "outputs": []
    },
    {
      "cell_type": "code",
      "metadata": {
        "id": "w494XmsmBlRc",
        "colab_type": "code",
        "colab": {}
      },
      "source": [
        "import pandas as pd \n",
        "pd.options.display.max_rows=999\n",
        "pd.options.display.max_columns=100\n",
        "\n",
        "df = pd.read_csv('LoanStats_2018Q4.csv', skiprows=1)\n",
        "\n",
        "display(df.shape)\n",
        "\n"
      ],
      "execution_count": 0,
      "outputs": []
    },
    {
      "cell_type": "code",
      "metadata": {
        "id": "tG4eH3VCE2zQ",
        "colab_type": "code",
        "colab": {}
      },
      "source": [
        "df.columns[123:]"
      ],
      "execution_count": 0,
      "outputs": []
    },
    {
      "cell_type": "code",
      "metadata": {
        "id": "6ccx5SNtD3yd",
        "colab_type": "code",
        "colab": {}
      },
      "source": [
        "display(df['id'][128412:])"
      ],
      "execution_count": 0,
      "outputs": []
    },
    {
      "cell_type": "code",
      "metadata": {
        "id": "uDYl9BNGF6Tk",
        "colab_type": "code",
        "colab": {}
      },
      "source": [
        "display(df['url'].unique())"
      ],
      "execution_count": 0,
      "outputs": []
    },
    {
      "cell_type": "code",
      "metadata": {
        "id": "51qKWUBXGHmw",
        "colab_type": "code",
        "colab": {}
      },
      "source": [
        "df['url'].unique()"
      ],
      "execution_count": 0,
      "outputs": []
    },
    {
      "cell_type": "code",
      "metadata": {
        "id": "PzEg9RuvGWjt",
        "colab_type": "code",
        "colab": {}
      },
      "source": [
        "df['member_id'].unique()"
      ],
      "execution_count": 0,
      "outputs": []
    },
    {
      "cell_type": "code",
      "metadata": {
        "id": "CKJg1e5JGdtP",
        "colab_type": "code",
        "colab": {}
      },
      "source": [
        "df['desc'].unique()"
      ],
      "execution_count": 0,
      "outputs": []
    },
    {
      "cell_type": "code",
      "metadata": {
        "id": "-edUYTIHGy4T",
        "colab_type": "code",
        "colab": {}
      },
      "source": [
        "duo_id = df['id'][128412:]"
      ],
      "execution_count": 0,
      "outputs": []
    },
    {
      "cell_type": "code",
      "metadata": {
        "id": "lV8w5qKFI9li",
        "colab_type": "code",
        "colab": {}
      },
      "source": [
        "df_ko = df.drop(['url', 'member_id', 'desc', 'id'], axis=1, inplace=True)"
      ],
      "execution_count": 0,
      "outputs": []
    },
    {
      "cell_type": "code",
      "metadata": {
        "id": "bimMjti8JLos",
        "colab_type": "code",
        "colab": {}
      },
      "source": [
        "df.head(3)"
      ],
      "execution_count": 0,
      "outputs": []
    },
    {
      "cell_type": "markdown",
      "metadata": {
        "id": "R7hEEbcdJYVg",
        "colab_type": "text"
      },
      "source": [
        ""
      ]
    },
    {
      "cell_type": "code",
      "metadata": {
        "id": "vsatdcfwG7HC",
        "colab_type": "code",
        "colab": {}
      },
      "source": [
        "import numpy as np \n",
        "\n",
        "display(df['int_rate'].describe(include=[np.number]))"
      ],
      "execution_count": 0,
      "outputs": []
    },
    {
      "cell_type": "code",
      "metadata": {
        "id": "pRmY1phPIQ9S",
        "colab_type": "code",
        "colab": {}
      },
      "source": [
        "display(df.iloc[128412:])"
      ],
      "execution_count": 0,
      "outputs": []
    },
    {
      "cell_type": "code",
      "metadata": {
        "id": "2r45W3BuMc1n",
        "colab_type": "code",
        "colab": {}
      },
      "source": [
        "display(df.head(1))"
      ],
      "execution_count": 0,
      "outputs": []
    },
    {
      "cell_type": "code",
      "metadata": {
        "id": "62AKKYcKMhCA",
        "colab_type": "code",
        "colab": {}
      },
      "source": [
        "into_rate = '15.02%'\n",
        "\n",
        "into_rate"
      ],
      "execution_count": 0,
      "outputs": []
    },
    {
      "cell_type": "code",
      "metadata": {
        "id": "atu1KbSsMsWI",
        "colab_type": "code",
        "colab": {}
      },
      "source": [
        "float(into_rate.strip().strip('%'))"
      ],
      "execution_count": 0,
      "outputs": []
    },
    {
      "cell_type": "code",
      "metadata": {
        "id": "H7CeS2cRM8-m",
        "colab_type": "code",
        "colab": {}
      },
      "source": [
        "type(into_rate)"
      ],
      "execution_count": 0,
      "outputs": []
    },
    {
      "cell_type": "code",
      "metadata": {
        "id": "sUgmQk8-NB8d",
        "colab_type": "code",
        "colab": {}
      },
      "source": [
        "def flow_rate(mystring):\n",
        "    return(float(mystring.strip().strip('%')))\n",
        "\n"
      ],
      "execution_count": 0,
      "outputs": []
    },
    {
      "cell_type": "code",
      "metadata": {
        "id": "QWKQ981RiJ5v",
        "colab_type": "code",
        "colab": {}
      },
      "source": [
        "df['int_rate'] = df['int_rate'].astype('category')"
      ],
      "execution_count": 0,
      "outputs": []
    },
    {
      "cell_type": "code",
      "metadata": {
        "id": "K4BXii87kwqR",
        "colab_type": "code",
        "colab": {}
      },
      "source": [
        "df['int_rate'] = df['int_rate'].apply(flow_rate)"
      ],
      "execution_count": 0,
      "outputs": []
    },
    {
      "cell_type": "markdown",
      "metadata": {
        "id": "_5_em3SYkwFg",
        "colab_type": "text"
      },
      "source": [
        ""
      ]
    },
    {
      "cell_type": "code",
      "metadata": {
        "id": "CarvxyVXi8jv",
        "colab_type": "code",
        "colab": {}
      },
      "source": [
        "df['int_rate'].unique()"
      ],
      "execution_count": 0,
      "outputs": []
    },
    {
      "cell_type": "code",
      "metadata": {
        "id": "Ys2K4p0iiy8i",
        "colab_type": "code",
        "colab": {}
      },
      "source": [
        "df['int_rate'] = df['int_rate'].astype('float64')"
      ],
      "execution_count": 0,
      "outputs": []
    },
    {
      "cell_type": "markdown",
      "metadata": {
        "id": "9dfzriafiytd",
        "colab_type": "text"
      },
      "source": [
        ""
      ]
    },
    {
      "cell_type": "markdown",
      "metadata": {
        "id": "q12dALpFiJe_",
        "colab_type": "text"
      },
      "source": [
        ""
      ]
    },
    {
      "cell_type": "code",
      "metadata": {
        "id": "qmyTT1Cff7HZ",
        "colab_type": "code",
        "colab": {}
      },
      "source": [
        "df.dtypes[:15]"
      ],
      "execution_count": 0,
      "outputs": []
    },
    {
      "cell_type": "code",
      "metadata": {
        "id": "vDVYuo3bfpNG",
        "colab_type": "code",
        "colab": {}
      },
      "source": [
        "display(df['int_rate'][40:45])"
      ],
      "execution_count": 0,
      "outputs": []
    },
    {
      "cell_type": "code",
      "metadata": {
        "id": "6MNvDCEjNl7R",
        "colab_type": "code",
        "colab": {}
      },
      "source": [
        "df.dtypes[:12]"
      ],
      "execution_count": 0,
      "outputs": []
    },
    {
      "cell_type": "code",
      "metadata": {
        "id": "clegTG0FPw7J",
        "colab_type": "code",
        "colab": {}
      },
      "source": [
        "df.index"
      ],
      "execution_count": 0,
      "outputs": []
    },
    {
      "cell_type": "markdown",
      "metadata": {
        "id": "2L-kjn7QPwwf",
        "colab_type": "text"
      },
      "source": [
        ""
      ]
    },
    {
      "cell_type": "code",
      "metadata": {
        "id": "Ap5z75hwNlxp",
        "colab_type": "code",
        "colab": {}
      },
      "source": [
        "df['emp_title'].describe(include=[np.object])"
      ],
      "execution_count": 0,
      "outputs": []
    },
    {
      "cell_type": "code",
      "metadata": {
        "id": "wqc5qxh2QZug",
        "colab_type": "code",
        "colab": {}
      },
      "source": [
        "examples = ['owner', 'Supervisor', 'Project Manager', np.NaN]\n",
        "\n",
        "def clean_title(title):\n",
        "    if isinstance(title, str):\n",
        "        return title.strip().title()\n",
        "    else:\n",
        "        return \"Unknown\"\n",
        "\n",
        "[clean_title(item) for item in examples]"
      ],
      "execution_count": 0,
      "outputs": []
    },
    {
      "cell_type": "code",
      "metadata": {
        "id": "Q-MnRhOwRElU",
        "colab_type": "code",
        "colab": {}
      },
      "source": [
        "df['emp_title'] = df['emp_title'].apply(clean_title)"
      ],
      "execution_count": 0,
      "outputs": []
    },
    {
      "cell_type": "code",
      "metadata": {
        "id": "8rxM5fxRQ1Be",
        "colab_type": "code",
        "colab": {}
      },
      "source": [
        "display(df.head())"
      ],
      "execution_count": 0,
      "outputs": []
    },
    {
      "cell_type": "code",
      "metadata": {
        "id": "mYpgUtmMRY2H",
        "colab_type": "code",
        "colab": {}
      },
      "source": [
        "display(df['emp_title'][128410:])"
      ],
      "execution_count": 0,
      "outputs": []
    },
    {
      "cell_type": "code",
      "metadata": {
        "id": "WYRpp4jER2ny",
        "colab_type": "code",
        "colab": {}
      },
      "source": [
        "distrol7 = df['emp_title'].value_counts(dropna=False, ascending=False)[:20]"
      ],
      "execution_count": 0,
      "outputs": []
    },
    {
      "cell_type": "markdown",
      "metadata": {
        "id": "mNysCjEfQ0zr",
        "colab_type": "text"
      },
      "source": [
        ""
      ]
    },
    {
      "cell_type": "code",
      "metadata": {
        "id": "GaeXMI7nSOIn",
        "colab_type": "code",
        "colab": {}
      },
      "source": [
        "distrol7"
      ],
      "execution_count": 0,
      "outputs": []
    },
    {
      "cell_type": "code",
      "metadata": {
        "id": "tJaQN0r-SN4e",
        "colab_type": "code",
        "colab": {}
      },
      "source": [
        "df['emp_title_manager'] = df['emp_title'].str.contains('Manager')\n",
        "\n",
        "display(df.head())"
      ],
      "execution_count": 0,
      "outputs": []
    },
    {
      "cell_type": "code",
      "metadata": {
        "id": "sSAXhTq0S2pK",
        "colab_type": "code",
        "colab": {}
      },
      "source": [
        "condo = (df['emp_title_manager'] == True)\n",
        "\n",
        "managers = df[df['emp_title_manager'] == True]\n",
        "\n",
        "display(managers.shape)"
      ],
      "execution_count": 0,
      "outputs": []
    },
    {
      "cell_type": "code",
      "metadata": {
        "id": "MtObWLtUTLed",
        "colab_type": "code",
        "colab": {}
      },
      "source": [
        "display(managers['emp_title'])"
      ],
      "execution_count": 0,
      "outputs": []
    },
    {
      "cell_type": "code",
      "metadata": {
        "id": "w4ueWzx9Tcbp",
        "colab_type": "code",
        "colab": {}
      },
      "source": [
        "# managers.to_csv('Managers_distro.csv', header=True, index=True)"
      ],
      "execution_count": 0,
      "outputs": []
    },
    {
      "cell_type": "markdown",
      "metadata": {
        "id": "edEKnkFpTLRB",
        "colab_type": "text"
      },
      "source": [
        ""
      ]
    },
    {
      "cell_type": "markdown",
      "metadata": {
        "id": "V4IwqiyKS2GU",
        "colab_type": "text"
      },
      "source": [
        ""
      ]
    },
    {
      "cell_type": "code",
      "metadata": {
        "id": "egS4FUfhTvuR",
        "colab_type": "code",
        "colab": {}
      },
      "source": [
        "plebs = df[(df['emp_title_manager'] == False) & (df['home_ownership'] == 'MORTGAGE')]\n",
        "\n",
        "display(plebs.shape)"
      ],
      "execution_count": 0,
      "outputs": []
    },
    {
      "cell_type": "code",
      "metadata": {
        "id": "Eim3O-qUUOjt",
        "colab_type": "code",
        "colab": {}
      },
      "source": [
        "display(plebs.head())"
      ],
      "execution_count": 0,
      "outputs": []
    },
    {
      "cell_type": "code",
      "metadata": {
        "id": "sQHiCk2XbdUH",
        "colab_type": "code",
        "colab": {}
      },
      "source": [
        "# plebs.to_csv('pleabs_distro.csv', header=True, index=True)"
      ],
      "execution_count": 0,
      "outputs": []
    },
    {
      "cell_type": "code",
      "metadata": {
        "id": "OykL5ZjnTvio",
        "colab_type": "code",
        "colab": {}
      },
      "source": [
        "managers['int_rate'].mean()"
      ],
      "execution_count": 0,
      "outputs": []
    },
    {
      "cell_type": "code",
      "metadata": {
        "id": "6WpcbjQ9TvUH",
        "colab_type": "code",
        "colab": {}
      },
      "source": [
        "plebs['int_rate'].mean()"
      ],
      "execution_count": 0,
      "outputs": []
    },
    {
      "cell_type": "code",
      "metadata": {
        "id": "Xc2I-Hl4mNFY",
        "colab_type": "code",
        "colab": {}
      },
      "source": [
        "[col for col in df if col.endswith('_d')]"
      ],
      "execution_count": 0,
      "outputs": []
    },
    {
      "cell_type": "code",
      "metadata": {
        "id": "RJ8WAbZitYqZ",
        "colab_type": "code",
        "colab": {}
      },
      "source": [
        "df['issue_d']"
      ],
      "execution_count": 0,
      "outputs": []
    },
    {
      "cell_type": "code",
      "metadata": {
        "id": "A0_4gr6FtYCx",
        "colab_type": "code",
        "colab": {}
      },
      "source": [
        ""
      ],
      "execution_count": 0,
      "outputs": []
    },
    {
      "cell_type": "markdown",
      "metadata": {
        "id": "2YZqdEmWtXuy",
        "colab_type": "text"
      },
      "source": [
        ""
      ]
    },
    {
      "cell_type": "code",
      "metadata": {
        "id": "fZ7A4jk_mMZX",
        "colab_type": "code",
        "colab": {}
      },
      "source": [
        "df.dtypes[:15]"
      ],
      "execution_count": 0,
      "outputs": []
    },
    {
      "cell_type": "code",
      "metadata": {
        "id": "5J5tWEdqmMOR",
        "colab_type": "code",
        "colab": {}
      },
      "source": [
        "df['issue_d'][:10]"
      ],
      "execution_count": 0,
      "outputs": []
    },
    {
      "cell_type": "code",
      "metadata": {
        "id": "XSu6i0kgCRU6",
        "colab_type": "code",
        "colab": {}
      },
      "source": [
        "df['next_pymnt_d'][:10]"
      ],
      "execution_count": 0,
      "outputs": []
    },
    {
      "cell_type": "code",
      "metadata": {
        "id": "0kDFsNs-mMBh",
        "colab_type": "code",
        "colab": {}
      },
      "source": [
        "df['issue_d'] = pd.to_datetime(df['issue_d'], infer_datetime_format=True)"
      ],
      "execution_count": 0,
      "outputs": []
    },
    {
      "cell_type": "code",
      "metadata": {
        "id": "omdh7zWCCgWn",
        "colab_type": "code",
        "colab": {}
      },
      "source": [
        "df['next_pymnt_d'] = pd.to_datetime(df['next_pymnt_d'], infer_datetime_format=True)"
      ],
      "execution_count": 0,
      "outputs": []
    },
    {
      "cell_type": "code",
      "metadata": {
        "id": "HUXE-Y6PCx6b",
        "colab_type": "code",
        "colab": {}
      },
      "source": [
        "df['last_pymnt_d'] = pd.to_datetime(df['last_pymnt_d'], infer_datetime_format=True)"
      ],
      "execution_count": 0,
      "outputs": []
    },
    {
      "cell_type": "markdown",
      "metadata": {
        "id": "n9VrfnKTmLqU",
        "colab_type": "text"
      },
      "source": [
        ""
      ]
    },
    {
      "cell_type": "code",
      "metadata": {
        "id": "v6k84oWHteat",
        "colab_type": "code",
        "colab": {}
      },
      "source": [
        "df['issue_d'].head().values"
      ],
      "execution_count": 0,
      "outputs": []
    },
    {
      "cell_type": "code",
      "metadata": {
        "id": "d-1O6TKctlgQ",
        "colab_type": "code",
        "colab": {}
      },
      "source": [
        "df['issue_d'].dt.year"
      ],
      "execution_count": 0,
      "outputs": []
    },
    {
      "cell_type": "markdown",
      "metadata": {
        "id": "8Sn0asLAtlEy",
        "colab_type": "text"
      },
      "source": [
        ""
      ]
    },
    {
      "cell_type": "markdown",
      "metadata": {
        "id": "JuhXnQGrtd65",
        "colab_type": "text"
      },
      "source": [
        ""
      ]
    },
    {
      "cell_type": "code",
      "metadata": {
        "id": "_fthYmaiDLYo",
        "colab_type": "code",
        "colab": {}
      },
      "source": [
        "df['last_payment_d_year'] = df['last_pymnt_d'].dt.year"
      ],
      "execution_count": 0,
      "outputs": []
    },
    {
      "cell_type": "code",
      "metadata": {
        "id": "3LE3tfoLDam-",
        "colab_type": "code",
        "colab": {}
      },
      "source": [
        "df['last_payment_d_month'] = df['last_pymnt_d'].dt.month"
      ],
      "execution_count": 0,
      "outputs": []
    },
    {
      "cell_type": "code",
      "metadata": {
        "id": "o1godNjjtrZW",
        "colab_type": "code",
        "colab": {}
      },
      "source": [
        "df['issue_year'] = df['issue_d'].dt.year"
      ],
      "execution_count": 0,
      "outputs": []
    },
    {
      "cell_type": "code",
      "metadata": {
        "id": "CxOWdKdTt3bj",
        "colab_type": "code",
        "colab": {}
      },
      "source": [
        "df['issue_month'] =df['issue_d'].dt.month"
      ],
      "execution_count": 0,
      "outputs": []
    },
    {
      "cell_type": "code",
      "metadata": {
        "id": "iPRApsgNt9jL",
        "colab_type": "code",
        "colab": {}
      },
      "source": [
        "df['earliest_cr_line'].head()"
      ],
      "execution_count": 0,
      "outputs": []
    },
    {
      "cell_type": "code",
      "metadata": {
        "id": "om_o2s84uCse",
        "colab_type": "code",
        "colab": {}
      },
      "source": [
        "df['earliest_cr_line'] = pd.to_datetime(df['earliest_cr_line'],\n",
        "                                        infer_datetime_format=True)"
      ],
      "execution_count": 0,
      "outputs": []
    },
    {
      "cell_type": "code",
      "metadata": {
        "id": "2Y-6LMWZuRtY",
        "colab_type": "code",
        "colab": {}
      },
      "source": [
        "df['days_from_earliest_credit_to_issue'] = (df['issue_d'] - df['earliest_cr_line']).dt.days"
      ],
      "execution_count": 0,
      "outputs": []
    },
    {
      "cell_type": "code",
      "metadata": {
        "id": "JLn7ZlWjuhQH",
        "colab_type": "code",
        "colab": {}
      },
      "source": [
        "df['loan_status'].unique()"
      ],
      "execution_count": 0,
      "outputs": []
    },
    {
      "cell_type": "markdown",
      "metadata": {
        "id": "pIwQCyP3tz4C",
        "colab_type": "text"
      },
      "source": [
        ""
      ]
    },
    {
      "cell_type": "code",
      "metadata": {
        "id": "XuRpHg5VvD8u",
        "colab_type": "code",
        "colab": {}
      },
      "source": [
        "\n",
        "def get_loan_for(group):\n",
        "    if group in ['Current', 'Fully Paid']:\n",
        "        return 'Full'\n",
        "    else:\n",
        "        return 'Other'\n",
        "\n",
        "\n",
        "df['loan_status'] = df['loan_status'].apply(get_loan_for)"
      ],
      "execution_count": 0,
      "outputs": []
    },
    {
      "cell_type": "code",
      "metadata": {
        "id": "tSj93QYRym7I",
        "colab_type": "code",
        "colab": {}
      },
      "source": [
        "display(df.head())"
      ],
      "execution_count": 0,
      "outputs": []
    },
    {
      "cell_type": "code",
      "metadata": {
        "id": "NT9iwsZJyyl8",
        "colab_type": "code",
        "colab": {}
      },
      "source": [
        "df['loan_status'].unique()"
      ],
      "execution_count": 0,
      "outputs": []
    },
    {
      "cell_type": "code",
      "metadata": {
        "id": "HlJWWXDVyyTV",
        "colab_type": "code",
        "colab": {}
      },
      "source": [
        "replace_map = {'loan_status': {'Other': 0, 'Full': 1}}\n"
      ],
      "execution_count": 0,
      "outputs": []
    },
    {
      "cell_type": "code",
      "metadata": {
        "id": "5H1_hrup43mz",
        "colab_type": "code",
        "colab": {}
      },
      "source": [
        "labels = df['loan_status'].astype('category').cat.categories.tolist()\n",
        "replace_map_comp ={'loan_status' : {k: v for k,v in zip(labels, list(range(0, len(labels))))}}\n",
        "\n",
        "print(replace_map_comp)"
      ],
      "execution_count": 0,
      "outputs": []
    },
    {
      "cell_type": "code",
      "metadata": {
        "id": "pxolk9u85Kl7",
        "colab_type": "code",
        "colab": {}
      },
      "source": [
        "df_replace = df.copy()"
      ],
      "execution_count": 0,
      "outputs": []
    },
    {
      "cell_type": "code",
      "metadata": {
        "id": "JZqUY4Ho5PgK",
        "colab_type": "code",
        "colab": {}
      },
      "source": [
        "df_replace.replace(replace_map_comp, inplace=True)\n",
        "\n",
        "df_replace.head()"
      ],
      "execution_count": 0,
      "outputs": []
    },
    {
      "cell_type": "code",
      "metadata": {
        "id": "iHj1jPgK54eC",
        "colab_type": "code",
        "colab": {}
      },
      "source": [
        "df_lc = df.copy()\n",
        "df_lc['loan_status'] = df_lc['loan_status'].astype('category')\n",
        "\n"
      ],
      "execution_count": 0,
      "outputs": []
    },
    {
      "cell_type": "code",
      "metadata": {
        "id": "JFLpnMtL6pRS",
        "colab_type": "code",
        "colab": {}
      },
      "source": [
        "\n",
        "df_lc['loan_status'] = df_lc['loan_status'].cat.codes"
      ],
      "execution_count": 0,
      "outputs": []
    },
    {
      "cell_type": "code",
      "metadata": {
        "id": "ddhMhFDB6zjw",
        "colab_type": "code",
        "colab": {}
      },
      "source": [
        "df_spec = df.copy()\n",
        "df_spec['loan_status_is_great'] = np.where(df_spec['loan_status'].str.contains('Full'), 1, 0)\n",
        "\n",
        "display(df_spec.tail())"
      ],
      "execution_count": 0,
      "outputs": []
    },
    {
      "cell_type": "markdown",
      "metadata": {
        "id": "5uJ9E9TC6zJF",
        "colab_type": "text"
      },
      "source": [
        ""
      ]
    },
    {
      "cell_type": "markdown",
      "metadata": {
        "id": "fgju1hMm5PNf",
        "colab_type": "text"
      },
      "source": [
        ""
      ]
    },
    {
      "cell_type": "code",
      "metadata": {
        "id": "lfIOxKP97qrp",
        "colab_type": "code",
        "colab": {}
      },
      "source": [
        "\n",
        "df['loan_status_is_great'] = np.where(df['loan_status'].str.contains('Full'), 1, 0)\n",
        "\n",
        "display(df.tail())"
      ],
      "execution_count": 0,
      "outputs": []
    },
    {
      "cell_type": "code",
      "metadata": {
        "id": "hJmrtT7H7X8F",
        "colab_type": "code",
        "colab": {}
      },
      "source": [
        ""
      ],
      "execution_count": 0,
      "outputs": []
    },
    {
      "cell_type": "markdown",
      "metadata": {
        "id": "_5ewGQTd5JqM",
        "colab_type": "text"
      },
      "source": [
        ""
      ]
    },
    {
      "cell_type": "markdown",
      "metadata": {
        "id": "--YsWAzo43M2",
        "colab_type": "text"
      },
      "source": [
        ""
      ]
    },
    {
      "cell_type": "code",
      "metadata": {
        "id": "jkSLxlOGqk_h",
        "colab_type": "code",
        "colab": {}
      },
      "source": [
        "df['term'].unique()"
      ],
      "execution_count": 0,
      "outputs": []
    },
    {
      "cell_type": "code",
      "metadata": {
        "id": "Xf1Wo09csNHF",
        "colab_type": "code",
        "colab": {}
      },
      "source": [
        "df['term'] = df['term'].astype('category')"
      ],
      "execution_count": 0,
      "outputs": []
    },
    {
      "cell_type": "code",
      "metadata": {
        "id": "ZHgSER0MsEVV",
        "colab_type": "code",
        "colab": {}
      },
      "source": [
        ""
      ],
      "execution_count": 0,
      "outputs": []
    },
    {
      "cell_type": "code",
      "metadata": {
        "id": "Bv-YqLjVqtOo",
        "colab_type": "code",
        "colab": {}
      },
      "source": [
        "def on_month(mystring):\n",
        "    return int(mystring.strip().strip('months'))\n",
        "\n",
        "df['term'] = df['term'].apply(on_month)"
      ],
      "execution_count": 0,
      "outputs": []
    },
    {
      "cell_type": "code",
      "metadata": {
        "id": "l65nC0DwsfkR",
        "colab_type": "code",
        "colab": {}
      },
      "source": [
        "display(df.head())"
      ],
      "execution_count": 0,
      "outputs": []
    },
    {
      "cell_type": "markdown",
      "metadata": {
        "id": "P6eHG6nlsqnT",
        "colab_type": "text"
      },
      "source": [
        ""
      ]
    },
    {
      "cell_type": "markdown",
      "metadata": {
        "id": "Lrw93-uXdXxx",
        "colab_type": "text"
      },
      "source": [
        ""
      ]
    },
    {
      "cell_type": "code",
      "metadata": {
        "id": "4D2x8bovr0cL",
        "colab_type": "code",
        "colab": {}
      },
      "source": [
        ""
      ],
      "execution_count": 0,
      "outputs": []
    },
    {
      "cell_type": "markdown",
      "metadata": {
        "id": "1FDEqtbV8wzu",
        "colab_type": "text"
      },
      "source": [
        ""
      ]
    },
    {
      "cell_type": "markdown",
      "metadata": {
        "id": "gA6L9UzYmJ-1",
        "colab_type": "text"
      },
      "source": [
        ""
      ]
    },
    {
      "cell_type": "code",
      "metadata": {
        "id": "OvbR97dkC3Mk",
        "colab_type": "code",
        "colab": {}
      },
      "source": [
        "#df = pd.read_csv(csvfile, header = None, delimiter=\"\\t\", quoting=csv.QUOTE_NONE, encoding='utf-8')"
      ],
      "execution_count": 0,
      "outputs": []
    },
    {
      "cell_type": "markdown",
      "metadata": {
        "id": "uTIQ6lriC2fq",
        "colab_type": "text"
      },
      "source": [
        ""
      ]
    }
  ]
}