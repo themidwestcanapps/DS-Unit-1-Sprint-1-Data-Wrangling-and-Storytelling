{
  "nbformat": 4,
  "nbformat_minor": 0,
  "metadata": {
    "colab": {
      "name": "Copy of stretch_OCTo1LambdaProper.ipynb",
      "provenance": [],
      "private_outputs": true,
      "collapsed_sections": [],
      "include_colab_link": true
    },
    "kernelspec": {
      "name": "python3",
      "display_name": "Python 3"
    },
    "accelerator": "GPU"
  },
  "cells": [
    {
      "cell_type": "markdown",
      "metadata": {
        "id": "view-in-github",
        "colab_type": "text"
      },
      "source": [
        "<a href=\"https://colab.research.google.com/github/themidwestcanapps/DS-Unit-1-Sprint-1-Data-Wrangling-and-Storytelling/blob/master/Copy_of_stretch_OCTo1LambdaProper.ipynb\" target=\"_parent\"><img src=\"https://colab.research.google.com/assets/colab-badge.svg\" alt=\"Open In Colab\"/></a>"
      ]
    },
    {
      "cell_type": "code",
      "metadata": {
        "id": "BTTXUpEcnmYW",
        "colab_type": "code",
        "colab": {}
      },
      "source": [
        "import pandas as pd \n",
        "\n",
        "wine_white = pd.read_csv('winequality-white.csv', sep=';')\n",
        "\n",
        "display(wine_white.shape)"
      ],
      "execution_count": 0,
      "outputs": []
    },
    {
      "cell_type": "code",
      "metadata": {
        "id": "8Bbs_39Kn9qX",
        "colab_type": "code",
        "colab": {}
      },
      "source": [
        "display(wine_white.head())"
      ],
      "execution_count": 0,
      "outputs": []
    },
    {
      "cell_type": "code",
      "metadata": {
        "id": "l86VCf2cpoaE",
        "colab_type": "code",
        "colab": {}
      },
      "source": [
        "wine_white['quality'].unique()"
      ],
      "execution_count": 0,
      "outputs": []
    },
    {
      "cell_type": "code",
      "metadata": {
        "id": "k3wrybetn9ic",
        "colab_type": "code",
        "colab": {}
      },
      "source": [
        "levelmap = {4:'Poor', 5:'Good', 6:'Fine', 7:'MoreSo', 8:'Pleasing', 9:'Rare'}\n",
        "wine_white['RWQ'] = wine_white['quality'].map(levelmap)"
      ],
      "execution_count": 0,
      "outputs": []
    },
    {
      "cell_type": "code",
      "metadata": {
        "id": "IDdceLzvqzfX",
        "colab_type": "code",
        "colab": {}
      },
      "source": [
        "wine_white.dtypes"
      ],
      "execution_count": 0,
      "outputs": []
    },
    {
      "cell_type": "code",
      "metadata": {
        "id": "dFmeIUHqq3RC",
        "colab_type": "code",
        "colab": {}
      },
      "source": [
        "display(wine_white.head())"
      ],
      "execution_count": 0,
      "outputs": []
    },
    {
      "cell_type": "code",
      "metadata": {
        "id": "EGX2HsR0rHl2",
        "colab_type": "code",
        "colab": {}
      },
      "source": [
        "wine_again = wine_white.drop('quality', axis=1, inplace=True)"
      ],
      "execution_count": 0,
      "outputs": []
    },
    {
      "cell_type": "code",
      "metadata": {
        "id": "MatDCVBQrUY5",
        "colab_type": "code",
        "colab": {}
      },
      "source": [
        "wine_white.head()"
      ],
      "execution_count": 0,
      "outputs": []
    },
    {
      "cell_type": "code",
      "metadata": {
        "id": "22En8j70sUbf",
        "colab_type": "code",
        "colab": {}
      },
      "source": [
        "wine_white.to_csv('winewhite.csv', sep=';', header=True, index=False)"
      ],
      "execution_count": 0,
      "outputs": []
    },
    {
      "cell_type": "code",
      "metadata": {
        "id": "uzOWXZ59tmO2",
        "colab_type": "code",
        "colab": {}
      },
      "source": [
        "wine_two = pd.read_csv('winewhite.csv', sep=';')\n",
        "\n",
        "wine_two.head()"
      ],
      "execution_count": 0,
      "outputs": []
    },
    {
      "cell_type": "code",
      "metadata": {
        "id": "KdgWiTJuuMu9",
        "colab_type": "code",
        "colab": {}
      },
      "source": [
        "%matplotlib inline\n",
        "import matplotlib.pyplot as plt "
      ],
      "execution_count": 0,
      "outputs": []
    },
    {
      "cell_type": "code",
      "metadata": {
        "id": "ivHVcJc4FMfC",
        "colab_type": "code",
        "colab": {}
      },
      "source": [
        "import seaborn as sns; sns.set(style=\"ticks\", color_codes=True)\n",
        "car_crash = sns.load_dataset(\"car_crashes\")\n",
        "cb_coll = sns.pairplot(car_crash)"
      ],
      "execution_count": 0,
      "outputs": []
    },
    {
      "cell_type": "code",
      "metadata": {
        "id": "jrx6WGykmSXa",
        "colab_type": "code",
        "colab": {}
      },
      "source": [
        "import IPython \n",
        "from IPython.display import display \n",
        "\n",
        "display(car_crash.sample(5))"
      ],
      "execution_count": 0,
      "outputs": []
    },
    {
      "cell_type": "code",
      "metadata": {
        "id": "1_7eH0Utmq5M",
        "colab_type": "code",
        "colab": {}
      },
      "source": [
        "car_crash.dtypes"
      ],
      "execution_count": 0,
      "outputs": []
    },
    {
      "cell_type": "code",
      "metadata": {
        "id": "xchJXq7WwLlR",
        "colab_type": "code",
        "colab": {}
      },
      "source": [
        "car_crash.index"
      ],
      "execution_count": 0,
      "outputs": []
    },
    {
      "cell_type": "code",
      "metadata": {
        "id": "wDXINm0GxBMf",
        "colab_type": "code",
        "colab": {}
      },
      "source": [
        "car_crash.isnull().sum()"
      ],
      "execution_count": 0,
      "outputs": []
    },
    {
      "cell_type": "code",
      "metadata": {
        "id": "wqfhKmqKop2E",
        "colab_type": "code",
        "colab": {}
      },
      "source": [
        "cb_coll = sns.pairplot(car_crash, vars=[\"speeding\", \"no_previous\"])"
      ],
      "execution_count": 0,
      "outputs": []
    },
    {
      "cell_type": "code",
      "metadata": {
        "id": "0mYxQHkHzia7",
        "colab_type": "code",
        "colab": {}
      },
      "source": [
        "cb_coll = sns.pairplot(car_crash, diag_kind='kde')"
      ],
      "execution_count": 0,
      "outputs": []
    },
    {
      "cell_type": "code",
      "metadata": {
        "id": "6cSvewei0LIM",
        "colab_type": "code",
        "colab": {}
      },
      "source": [
        "cb_coll = sns.pairplot(car_crash, diag_kind='hist')"
      ],
      "execution_count": 0,
      "outputs": []
    },
    {
      "cell_type": "markdown",
      "metadata": {
        "id": "-qoBN2XwziCK",
        "colab_type": "text"
      },
      "source": [
        ""
      ]
    }
  ]
}